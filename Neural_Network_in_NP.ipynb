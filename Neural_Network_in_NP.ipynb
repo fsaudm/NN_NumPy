{
  "nbformat": 4,
  "nbformat_minor": 0,
  "metadata": {
    "colab": {
      "provenance": [],
      "toc_visible": true,
      "authorship_tag": "ABX9TyPS25G4Rld2HNMxUSDeMHjJ",
      "include_colab_link": true
    },
    "kernelspec": {
      "name": "python3",
      "display_name": "Python 3"
    },
    "language_info": {
      "name": "python"
    },
    "widgets": {
      "application/vnd.jupyter.widget-state+json": {
        "0f7bb0fe3d8d4b469e241ba257217c80": {
          "model_module": "@jupyter-widgets/controls",
          "model_name": "VBoxModel",
          "model_module_version": "1.5.0",
          "state": {
            "_dom_classes": [],
            "_model_module": "@jupyter-widgets/controls",
            "_model_module_version": "1.5.0",
            "_model_name": "VBoxModel",
            "_view_count": null,
            "_view_module": "@jupyter-widgets/controls",
            "_view_module_version": "1.5.0",
            "_view_name": "VBoxView",
            "box_style": "",
            "children": [
              "IPY_MODEL_b5e31f2a2cf04d86a5bd03f80a4d11f2",
              "IPY_MODEL_e29d80412c2d4e97bf8fac072c9a19b2"
            ],
            "layout": "IPY_MODEL_f83db723519e4b1bbf4c224639f7c32b"
          }
        },
        "b5e31f2a2cf04d86a5bd03f80a4d11f2": {
          "model_module": "@jupyter-widgets/controls",
          "model_name": "LabelModel",
          "model_module_version": "1.5.0",
          "state": {
            "_dom_classes": [],
            "_model_module": "@jupyter-widgets/controls",
            "_model_module_version": "1.5.0",
            "_model_name": "LabelModel",
            "_view_count": null,
            "_view_module": "@jupyter-widgets/controls",
            "_view_module_version": "1.5.0",
            "_view_name": "LabelView",
            "description": "",
            "description_tooltip": null,
            "layout": "IPY_MODEL_a851bad8c949454d9ba75999898829e7",
            "placeholder": "​",
            "style": "IPY_MODEL_f9a16d0516ff4fe39d09d538d259d76c",
            "value": "0.011 MB of 0.011 MB uploaded\r"
          }
        },
        "e29d80412c2d4e97bf8fac072c9a19b2": {
          "model_module": "@jupyter-widgets/controls",
          "model_name": "FloatProgressModel",
          "model_module_version": "1.5.0",
          "state": {
            "_dom_classes": [],
            "_model_module": "@jupyter-widgets/controls",
            "_model_module_version": "1.5.0",
            "_model_name": "FloatProgressModel",
            "_view_count": null,
            "_view_module": "@jupyter-widgets/controls",
            "_view_module_version": "1.5.0",
            "_view_name": "ProgressView",
            "bar_style": "",
            "description": "",
            "description_tooltip": null,
            "layout": "IPY_MODEL_5c5351b20db54782a6bb2874fbc807cd",
            "max": 1,
            "min": 0,
            "orientation": "horizontal",
            "style": "IPY_MODEL_0ff7945134594e5d8fea39e6eb59160d",
            "value": 1
          }
        },
        "f83db723519e4b1bbf4c224639f7c32b": {
          "model_module": "@jupyter-widgets/base",
          "model_name": "LayoutModel",
          "model_module_version": "1.2.0",
          "state": {
            "_model_module": "@jupyter-widgets/base",
            "_model_module_version": "1.2.0",
            "_model_name": "LayoutModel",
            "_view_count": null,
            "_view_module": "@jupyter-widgets/base",
            "_view_module_version": "1.2.0",
            "_view_name": "LayoutView",
            "align_content": null,
            "align_items": null,
            "align_self": null,
            "border": null,
            "bottom": null,
            "display": null,
            "flex": null,
            "flex_flow": null,
            "grid_area": null,
            "grid_auto_columns": null,
            "grid_auto_flow": null,
            "grid_auto_rows": null,
            "grid_column": null,
            "grid_gap": null,
            "grid_row": null,
            "grid_template_areas": null,
            "grid_template_columns": null,
            "grid_template_rows": null,
            "height": null,
            "justify_content": null,
            "justify_items": null,
            "left": null,
            "margin": null,
            "max_height": null,
            "max_width": null,
            "min_height": null,
            "min_width": null,
            "object_fit": null,
            "object_position": null,
            "order": null,
            "overflow": null,
            "overflow_x": null,
            "overflow_y": null,
            "padding": null,
            "right": null,
            "top": null,
            "visibility": null,
            "width": null
          }
        },
        "a851bad8c949454d9ba75999898829e7": {
          "model_module": "@jupyter-widgets/base",
          "model_name": "LayoutModel",
          "model_module_version": "1.2.0",
          "state": {
            "_model_module": "@jupyter-widgets/base",
            "_model_module_version": "1.2.0",
            "_model_name": "LayoutModel",
            "_view_count": null,
            "_view_module": "@jupyter-widgets/base",
            "_view_module_version": "1.2.0",
            "_view_name": "LayoutView",
            "align_content": null,
            "align_items": null,
            "align_self": null,
            "border": null,
            "bottom": null,
            "display": null,
            "flex": null,
            "flex_flow": null,
            "grid_area": null,
            "grid_auto_columns": null,
            "grid_auto_flow": null,
            "grid_auto_rows": null,
            "grid_column": null,
            "grid_gap": null,
            "grid_row": null,
            "grid_template_areas": null,
            "grid_template_columns": null,
            "grid_template_rows": null,
            "height": null,
            "justify_content": null,
            "justify_items": null,
            "left": null,
            "margin": null,
            "max_height": null,
            "max_width": null,
            "min_height": null,
            "min_width": null,
            "object_fit": null,
            "object_position": null,
            "order": null,
            "overflow": null,
            "overflow_x": null,
            "overflow_y": null,
            "padding": null,
            "right": null,
            "top": null,
            "visibility": null,
            "width": null
          }
        },
        "f9a16d0516ff4fe39d09d538d259d76c": {
          "model_module": "@jupyter-widgets/controls",
          "model_name": "DescriptionStyleModel",
          "model_module_version": "1.5.0",
          "state": {
            "_model_module": "@jupyter-widgets/controls",
            "_model_module_version": "1.5.0",
            "_model_name": "DescriptionStyleModel",
            "_view_count": null,
            "_view_module": "@jupyter-widgets/base",
            "_view_module_version": "1.2.0",
            "_view_name": "StyleView",
            "description_width": ""
          }
        },
        "5c5351b20db54782a6bb2874fbc807cd": {
          "model_module": "@jupyter-widgets/base",
          "model_name": "LayoutModel",
          "model_module_version": "1.2.0",
          "state": {
            "_model_module": "@jupyter-widgets/base",
            "_model_module_version": "1.2.0",
            "_model_name": "LayoutModel",
            "_view_count": null,
            "_view_module": "@jupyter-widgets/base",
            "_view_module_version": "1.2.0",
            "_view_name": "LayoutView",
            "align_content": null,
            "align_items": null,
            "align_self": null,
            "border": null,
            "bottom": null,
            "display": null,
            "flex": null,
            "flex_flow": null,
            "grid_area": null,
            "grid_auto_columns": null,
            "grid_auto_flow": null,
            "grid_auto_rows": null,
            "grid_column": null,
            "grid_gap": null,
            "grid_row": null,
            "grid_template_areas": null,
            "grid_template_columns": null,
            "grid_template_rows": null,
            "height": null,
            "justify_content": null,
            "justify_items": null,
            "left": null,
            "margin": null,
            "max_height": null,
            "max_width": null,
            "min_height": null,
            "min_width": null,
            "object_fit": null,
            "object_position": null,
            "order": null,
            "overflow": null,
            "overflow_x": null,
            "overflow_y": null,
            "padding": null,
            "right": null,
            "top": null,
            "visibility": null,
            "width": null
          }
        },
        "0ff7945134594e5d8fea39e6eb59160d": {
          "model_module": "@jupyter-widgets/controls",
          "model_name": "ProgressStyleModel",
          "model_module_version": "1.5.0",
          "state": {
            "_model_module": "@jupyter-widgets/controls",
            "_model_module_version": "1.5.0",
            "_model_name": "ProgressStyleModel",
            "_view_count": null,
            "_view_module": "@jupyter-widgets/base",
            "_view_module_version": "1.2.0",
            "_view_name": "StyleView",
            "bar_color": null,
            "description_width": ""
          }
        }
      }
    }
  },
  "cells": [
    {
      "cell_type": "markdown",
      "metadata": {
        "id": "view-in-github",
        "colab_type": "text"
      },
      "source": [
        "<a href=\"https://colab.research.google.com/github/fsaudm/NN_NumPy/blob/main/Neural_Network_in_NP.ipynb\" target=\"_parent\"><img src=\"https://colab.research.google.com/assets/colab-badge.svg\" alt=\"Open In Colab\"/></a>"
      ]
    },
    {
      "cell_type": "markdown",
      "source": [
        "# A Neural Network using NumPy for MNIST"
      ],
      "metadata": {
        "id": "tTA8_Vn-pY4z"
      }
    },
    {
      "cell_type": "markdown",
      "source": [
        "**Note**\n",
        "\n",
        "For 2-D arrays, np.dot performs matrix multiplication. To be more readable and explicit:\n",
        "- **np.matmul()** is used for matrix multiplication\n",
        "- \"*\" is used for element-wise multiplication"
      ],
      "metadata": {
        "id": "MKaQHX02pWeU"
      }
    },
    {
      "cell_type": "code",
      "source": [
        "pip install wandb -qqq"
      ],
      "metadata": {
        "id": "bbX3qmcPh0Dg"
      },
      "execution_count": 156,
      "outputs": []
    },
    {
      "cell_type": "code",
      "source": [
        "# Importing mighty NumPy!\n",
        "import numpy as np\n",
        "\n",
        "import pandas as pd\n",
        "import matplotlib.pyplot as plt\n",
        "import seaborn as sns\n",
        "\n",
        "# Sklearn\n",
        "from sklearn.model_selection import train_test_split\n",
        "from sklearn.metrics import classification_report, accuracy_score, confusion_matrix, ConfusionMatrixDisplay\n",
        "\n",
        "# Logging\n",
        "import wandb\n",
        "from tqdm import tqdm\n"
      ],
      "metadata": {
        "id": "tBFxzWXwcxOC"
      },
      "execution_count": 157,
      "outputs": []
    },
    {
      "cell_type": "code",
      "source": [
        "# Mnist\n",
        "\n",
        "train = pd.read_csv(\"/content/sample_data/mnist_train_small.csv\", header=None)\n",
        "train = train.values  # Convert to a NumPy array\n",
        "X_train = train[:, 1:]/255.0  # Normalize the data\n",
        "y_train = train[:, 0].reshape(-1, 1)\n",
        "\n",
        "\n",
        "test = pd.read_csv(\"/content/sample_data/mnist_test.csv\", header=None)\n",
        "test = test.values\n",
        "X_test = test[:, 1:]/255.0  # Normalize the data\n",
        "y_test = test[:, 0].reshape(-1, 1)\n",
        "\n",
        "\n",
        "# Shape\n",
        "print(f\"X_train shape: {X_train.shape}\")\n",
        "print(f\"y_train shape: {y_train.shape}\")\n",
        "print(f\"X_test shape: {X_test.shape}\")\n",
        "print(f\"y_test shape: {y_test.shape}\")"
      ],
      "metadata": {
        "colab": {
          "base_uri": "https://localhost:8080/"
        },
        "id": "5TrJE5rfNIRQ",
        "outputId": "6da7d380-22d9-4a4f-d43e-39eeca4a7705"
      },
      "execution_count": 158,
      "outputs": [
        {
          "output_type": "stream",
          "name": "stdout",
          "text": [
            "X_train shape: (20000, 784)\n",
            "y_train shape: (20000, 1)\n",
            "X_test shape: (10000, 784)\n",
            "y_test shape: (10000, 1)\n"
          ]
        }
      ]
    },
    {
      "cell_type": "code",
      "source": [
        "# # Load the MNIST dataset\n",
        "# mnist = fetch_openml('mnist_784', version=1)\n",
        "# X, y = mnist.data, mnist.target\n",
        "\n",
        "# # Transform to arrays\n",
        "# X = X.to_numpy()\n",
        "# y = y.to_numpy().astype(int).reshape(-1,1)\n",
        "\n",
        "# # Normalize X\n",
        "# X = X / 255.0  # Normalize the data\n",
        "\n",
        "# # Split the data into training and testing sets\n",
        "# X_train, X_test, y_train, y_test = train_test_split(X, y, test_size=0.3, random_state=42)"
      ],
      "metadata": {
        "id": "9DuCgFtOfUD8"
      },
      "execution_count": 159,
      "outputs": []
    },
    {
      "cell_type": "code",
      "source": [
        "print(f\"Label distribution in y_train: \\n {np.unique(y_train, return_counts=True)} \\n\")\n",
        "print(f\"Label distribution in y_test: \\n {np.unique(y_test, return_counts=True)}\")"
      ],
      "metadata": {
        "colab": {
          "base_uri": "https://localhost:8080/"
        },
        "id": "BVy3xNjsPSXd",
        "outputId": "a66d434f-88d0-457b-8a19-887ce4cc758d"
      },
      "execution_count": 160,
      "outputs": [
        {
          "output_type": "stream",
          "name": "stdout",
          "text": [
            "Label distribution in y_train: \n",
            " (array([0, 1, 2, 3, 4, 5, 6, 7, 8, 9]), array([1962, 2243, 1989, 2021, 1924, 1761, 2039, 2126, 1912, 2023])) \n",
            "\n",
            "Label distribution in y_test: \n",
            " (array([0, 1, 2, 3, 4, 5, 6, 7, 8, 9]), array([ 980, 1135, 1032, 1010,  982,  892,  958, 1028,  974, 1009]))\n"
          ]
        }
      ]
    },
    {
      "cell_type": "markdown",
      "source": [
        "## Neural Network definition & Functions"
      ],
      "metadata": {
        "id": "lapVfpFHfyTT"
      }
    },
    {
      "cell_type": "code",
      "source": [
        "# @title ReLu\n",
        "def relu(array):\n",
        "    return np.maximum(0, array)  # Vectorized ReLU"
      ],
      "metadata": {
        "id": "qyTDZVKVjPdz"
      },
      "execution_count": 161,
      "outputs": []
    },
    {
      "cell_type": "code",
      "source": [
        "# @title Softmax\n",
        "def softmax(array):\n",
        "    # Clip values to prevent overflow\n",
        "    array = np.clip(array, -500, 500)\n",
        "    exps = np.exp(array - np.max(array, axis=1, keepdims=True)) # Substract the max, broadcast\n",
        "    return exps / np.sum(exps, axis=1, keepdims=True)  # Divide by sum, broadcast"
      ],
      "metadata": {
        "id": "Uu2QIB-mlkHf"
      },
      "execution_count": 162,
      "outputs": []
    },
    {
      "cell_type": "code",
      "source": [
        "# @title Predict Y\n",
        "def predict_y(array):\n",
        "    return np.argmax(array, axis=1)  # Divide by sum, broadcast"
      ],
      "metadata": {
        "id": "-ka-qcZfsot1"
      },
      "execution_count": 163,
      "outputs": []
    },
    {
      "cell_type": "code",
      "source": [
        "# @title One-hot encoding for Labels\n",
        "def one_hot_encode(y, n_classes = 10):\n",
        "    return np.eye(n_classes)[y].reshape(-1, n_classes)"
      ],
      "metadata": {
        "id": "JOLtFHMVtQI1"
      },
      "execution_count": 164,
      "outputs": []
    },
    {
      "cell_type": "code",
      "source": [
        "# @title Cross-entropy\n",
        "def cross_entropy_loss(y_true, y_pred):\n",
        "    loss = -np.mean(y_true * np.log(y_pred + 1e-9)) # Average loss over the batch\n",
        "    return loss"
      ],
      "metadata": {
        "id": "pyKtlhvKv97i"
      },
      "execution_count": 165,
      "outputs": []
    },
    {
      "cell_type": "markdown",
      "source": [
        "### Network Architecture & Params"
      ],
      "metadata": {
        "id": "4PjPiIjpF_Fy"
      }
    },
    {
      "cell_type": "code",
      "source": [
        "# @title Parameters\n",
        "def initialize_parameters(input_dim, hidden1_dim, hidden2_dim, output_dim):\n",
        "    W1 = np.random.randn(input_dim, hidden1_dim) * np.sqrt(2. / input_dim)\n",
        "    b1 = np.zeros((1, hidden1_dim))\n",
        "    W2 = np.random.randn(hidden1_dim, hidden2_dim) * np.sqrt(2. / hidden1_dim)\n",
        "    b2 = np.zeros((1, hidden2_dim))\n",
        "    W3 = np.random.randn(hidden2_dim, output_dim) * np.sqrt(2. / hidden2_dim)\n",
        "    b3 = np.zeros((1, output_dim))\n",
        "    return W1, W2, W3, b1, b2, b3"
      ],
      "metadata": {
        "id": "AgrkqvpkuaTo"
      },
      "execution_count": 166,
      "outputs": []
    },
    {
      "cell_type": "code",
      "source": [
        "# @title Forward pass, Vetorized!\n",
        "np.random.seed(77)\n",
        "\n",
        "i=10\n",
        "x = X_train[:i]\n",
        "y = y_train[:i]\n",
        "num_classes = 10\n",
        "\n",
        "# Initialize parameters\n",
        "input_dim = 784\n",
        "hidden1_dim = 128\n",
        "hidden2_dim = 64\n",
        "output_dim = 10\n",
        "\n",
        "W1, W2, W3, b1, b2, b3 = initialize_parameters(input_dim, hidden1_dim, hidden2_dim, output_dim)\n",
        "\n",
        "### Network Example\n",
        "### 1 forward pass\n",
        "# From input to hidden 1\n",
        "z1 = np.matmul(x,W1) + b1\n",
        "a1 = relu(z1)\n",
        "\n",
        "# From hidden 1 to hidden 2\n",
        "z2 = np.matmul(a1,W2) + b2\n",
        "a2 = relu(z2)\n",
        "\n",
        "# From hidden 2 to output\n",
        "z3 = np.matmul(a2,W3) + b3\n",
        "a3 = softmax(z3)\n",
        "\n",
        "# From output to prediction\n",
        "y_hat = predict_y(a3).reshape(-1,1)\n",
        "\n",
        "# Calculate loss\n",
        "loss = cross_entropy_loss(one_hot_encode(y, num_classes), a3)\n",
        "\n",
        "\n",
        "\n",
        "# Results:\n",
        "print(f\"Probabilies:\\n {a3}, shape: {a3.shape}\\n\")\n",
        "print(f\"Predicted Y:\\n {y_hat}, shape: {y_hat.shape}\\n\")\n",
        "print(f\"Actual Y:\\n {y_train[:i]}, shape: {y_train[:i].shape}\\n\")\n",
        "print(f\"Loss:\\n {loss}\\n\")\n",
        "\n",
        "\n",
        "# Shapes:\n",
        "print(f\"Input shape: {x.shape}\")\n",
        "print(f\"Predicted Y shape: {y_hat.shape}\")\n",
        "\n",
        "print(f\"Parameters W1 shape: {W1.shape}\")\n",
        "print(f\"Parameters b1 shape: {b1.shape}\")\n",
        "print(f\"Parameters W2 shape: {W2.shape}\")\n",
        "print(f\"Parameters b2 shape: {b2.shape}\")\n",
        "print(f\"Parameters W3 shape: {W3.shape}\")\n",
        "print(f\"Parameters b3 shape: {b3.shape}\")"
      ],
      "metadata": {
        "colab": {
          "base_uri": "https://localhost:8080/"
        },
        "id": "QljBFD1NqqsH",
        "outputId": "4a6b4706-2914-4f1d-f5a8-ccc04e49af00"
      },
      "execution_count": 167,
      "outputs": [
        {
          "output_type": "stream",
          "name": "stdout",
          "text": [
            "Probabilies:\n",
            " [[0.11733263 0.06609539 0.08865623 0.08824106 0.10087229 0.08878498\n",
            "  0.13841442 0.04649303 0.12330861 0.14180136]\n",
            " [0.08137528 0.03863917 0.09789757 0.09745332 0.10597802 0.08851069\n",
            "  0.14254998 0.05846954 0.10516031 0.18396613]\n",
            " [0.04992956 0.06360686 0.07616773 0.07650776 0.1227953  0.05010015\n",
            "  0.13024905 0.09755361 0.17580309 0.15728688]\n",
            " [0.10503193 0.07760418 0.10106412 0.06629002 0.08223915 0.08457014\n",
            "  0.14472563 0.08227575 0.11070808 0.14549101]\n",
            " [0.07489542 0.0300609  0.08480222 0.06860499 0.09137231 0.06776257\n",
            "  0.17307812 0.05814437 0.16373525 0.18754385]\n",
            " [0.08809946 0.03252733 0.06278415 0.09410448 0.09235638 0.07612928\n",
            "  0.16511115 0.03761974 0.19044173 0.16082632]\n",
            " [0.06871737 0.02832598 0.11960507 0.0437029  0.07847501 0.02069992\n",
            "  0.11135655 0.04534697 0.26605171 0.21771852]\n",
            " [0.07360012 0.05340208 0.14168721 0.04405848 0.13227811 0.03669042\n",
            "  0.08118515 0.08908264 0.17040988 0.17760589]\n",
            " [0.05974169 0.03258083 0.05514698 0.06898314 0.07015171 0.08936184\n",
            "  0.15400261 0.05510803 0.17600346 0.23891971]\n",
            " [0.07316737 0.02527925 0.06838034 0.07344207 0.06790836 0.0710615\n",
            "  0.16000792 0.03658762 0.23352893 0.19063664]], shape: (10, 10)\n",
            "\n",
            "Predicted Y:\n",
            " [[9]\n",
            " [9]\n",
            " [8]\n",
            " [9]\n",
            " [9]\n",
            " [8]\n",
            " [8]\n",
            " [9]\n",
            " [9]\n",
            " [8]], shape: (10, 1)\n",
            "\n",
            "Actual Y:\n",
            " [[6]\n",
            " [5]\n",
            " [7]\n",
            " [9]\n",
            " [5]\n",
            " [2]\n",
            " [0]\n",
            " [6]\n",
            " [5]\n",
            " [5]], shape: (10, 1)\n",
            "\n",
            "Loss:\n",
            " 0.2436497458770077\n",
            "\n",
            "Input shape: (10, 784)\n",
            "Predicted Y shape: (10, 1)\n",
            "Parameters W1 shape: (784, 128)\n",
            "Parameters b1 shape: (1, 128)\n",
            "Parameters W2 shape: (128, 64)\n",
            "Parameters b2 shape: (1, 64)\n",
            "Parameters W3 shape: (64, 10)\n",
            "Parameters b3 shape: (1, 10)\n"
          ]
        }
      ]
    },
    {
      "cell_type": "markdown",
      "source": [
        "### Back Propagation"
      ],
      "metadata": {
        "id": "G5z75GjbGbb3"
      }
    },
    {
      "cell_type": "code",
      "source": [
        "# @title ReLu 'prime'\n",
        "def relu_prime(array):\n",
        "    return np.where(array > 0, 1, 0) ## Boolean for z>0, 1, 0"
      ],
      "metadata": {
        "id": "XSx5OHCAIk9E"
      },
      "execution_count": 168,
      "outputs": []
    },
    {
      "cell_type": "code",
      "source": [
        "# @title Backwards pass, updating parameters\n",
        "\n",
        "### Network Example\n",
        "### backwards pass\n",
        "\n",
        "### Error propagation\n",
        "m = y.shape[0]  # Number of examples\n",
        "\n",
        "# Step 1: Calculate error at the output layer\n",
        "delta3 = a3 - one_hot_encode(y, num_classes) # (10, num_classes)\n",
        "\n",
        "# Step 2: Calculate gradients for W3 and b3\n",
        "dW3 = np.matmul(a2.T, delta3) / m  # (10, 10) . (10, num_classes) -> (10, num_classes)\n",
        "db3 = np.sum(delta3, axis=0, keepdims=True) / m  # (1, num_classes)\n",
        "\n",
        "# Step 3: Propagate the error to hidden layer 2\n",
        "delta2 = np.matmul(delta3, W3.T) * relu_prime(a2)  # (10, num_classes) . (num_classes, 10) -> (10, 10) * (10, 10)\n",
        "\n",
        "# Step 4: Calculate gradients for W2 and b2\n",
        "dW2 = np.matmul(a1.T, delta2) / m  # (10, 10) . (10, 10) -> (10, 10)\n",
        "db2 = np.sum(delta2, axis=0, keepdims=True) / m  # (1, 10)\n",
        "\n",
        "# Step 5: Propagate the error to hidden layer 1\n",
        "delta1 = np.matmul(delta2, W2.T) * relu_prime(a1)  # (10, 10) . (10, 10) -> (10, 10) * (10, 10)\n",
        "\n",
        "# Step 6: Calculate gradients for W1 and b1\n",
        "dW1 = np.matmul(x.T, delta1) / m  # (10, n_features) . (10, 10) -> (n_features, 10)\n",
        "db1 = np.sum(delta1, axis=0, keepdims=True) / m  # (1, 10)\n",
        "\n",
        "\n",
        "### Parameters update\n",
        "lr = 3e-2\n",
        "\n",
        "# Update weights and biases\n",
        "W1 -= lr * dW1\n",
        "b1 -= lr * db1\n",
        "W2 -= lr * dW2\n",
        "b2 -= lr * db2\n",
        "W3 -= lr * dW3\n",
        "b3 -= lr * db3"
      ],
      "metadata": {
        "id": "hQQeWYp3upDH"
      },
      "execution_count": 169,
      "outputs": []
    },
    {
      "cell_type": "markdown",
      "source": [
        "## Training"
      ],
      "metadata": {
        "id": "-2xxRewXZma5"
      }
    },
    {
      "cell_type": "code",
      "source": [
        "def forward_pass(x, y, num_classes, W1, W2, W3, b1, b2, b3):\n",
        "\n",
        "  # From input to hidden 1\n",
        "  z1 = np.matmul(x,W1) + b1\n",
        "  a1 = relu(z1)\n",
        "\n",
        "  # From hidden 1 to hidden 2\n",
        "  z2 = np.matmul(a1,W2) + b2\n",
        "  a2 = relu(z2)\n",
        "\n",
        "  # From hidden 2 to output\n",
        "  z3 = np.matmul(a2,W3) + b3\n",
        "  a3 = softmax(z3)\n",
        "\n",
        "  # From output to prediction\n",
        "  y_hat = predict_y(a3).reshape(-1,1)\n",
        "\n",
        "  # Calculate loss\n",
        "  loss = cross_entropy_loss(one_hot_encode(y, num_classes), a3)\n",
        "\n",
        "  return loss, y_hat, a3, a2, a1\n",
        "\n",
        "\n",
        "def backwards_pass(x, y, num_classes, lr, a3, a2, a1, W1, W2, W3, b1, b2, b3):\n",
        "  ### Error propagation\n",
        "  m = y.shape[0]  # Number of examples\n",
        "\n",
        "  delta3 = a3 - one_hot_encode(y, num_classes)\n",
        "  dW3 = np.matmul(a2.T, delta3) / m\n",
        "  db3 = np.sum(delta3, axis=0, keepdims=True) / m\n",
        "\n",
        "  delta2 = np.matmul(delta3, W3.T) * relu_prime(a2)\n",
        "  dW2 = np.matmul(a1.T, delta2) / m\n",
        "  db2 = np.sum(delta2, axis=0, keepdims=True) / m\n",
        "\n",
        "  delta1 = np.matmul(delta2, W2.T) * relu_prime(a1)\n",
        "  dW1 = np.matmul(x.T, delta1) / m\n",
        "  db1 = np.sum(delta1, axis=0, keepdims=True) / m\n",
        "\n",
        "  # Update weights and biases\n",
        "  W1 -= lr * dW1\n",
        "  b1 -= lr * db1\n",
        "  W2 -= lr * dW2\n",
        "  b2 -= lr * db2\n",
        "  W3 -= lr * dW3\n",
        "  b3 -= lr * db3\n",
        "\n",
        "  return W1, W2, W3, b1, b2, b3"
      ],
      "metadata": {
        "id": "KsC8t3y4ZqsF"
      },
      "execution_count": 170,
      "outputs": []
    },
    {
      "cell_type": "markdown",
      "source": [
        "### Training loop"
      ],
      "metadata": {
        "id": "9m3h8XDOarNZ"
      }
    },
    {
      "cell_type": "code",
      "source": [
        "# Log in to your W&B account\n",
        "import wandb\n",
        "from tqdm import tqdm\n",
        "\n",
        "\n",
        "# Use wandb-core, temporary for wandb's new backend\n",
        "wandb.require(\"core\")\n",
        "wandb.login()"
      ],
      "metadata": {
        "id": "yL0qjFHUDeUK",
        "colab": {
          "base_uri": "https://localhost:8080/",
          "height": 139
        },
        "outputId": "b895bc59-3b07-462e-b577-0363de05837a"
      },
      "execution_count": 171,
      "outputs": [
        {
          "output_type": "stream",
          "name": "stderr",
          "text": [
            "\u001b[34m\u001b[1mwandb\u001b[0m: Using wandb-core as the SDK backend. Please refer to https://wandb.me/wandb-core for more information.\n"
          ]
        },
        {
          "output_type": "display_data",
          "data": {
            "text/plain": [
              "<IPython.core.display.Javascript object>"
            ],
            "application/javascript": [
              "\n",
              "        window._wandbApiKey = new Promise((resolve, reject) => {\n",
              "            function loadScript(url) {\n",
              "            return new Promise(function(resolve, reject) {\n",
              "                let newScript = document.createElement(\"script\");\n",
              "                newScript.onerror = reject;\n",
              "                newScript.onload = resolve;\n",
              "                document.body.appendChild(newScript);\n",
              "                newScript.src = url;\n",
              "            });\n",
              "            }\n",
              "            loadScript(\"https://cdn.jsdelivr.net/npm/postmate/build/postmate.min.js\").then(() => {\n",
              "            const iframe = document.createElement('iframe')\n",
              "            iframe.style.cssText = \"width:0;height:0;border:none\"\n",
              "            document.body.appendChild(iframe)\n",
              "            const handshake = new Postmate({\n",
              "                container: iframe,\n",
              "                url: 'https://wandb.ai/authorize'\n",
              "            });\n",
              "            const timeout = setTimeout(() => reject(\"Couldn't auto authenticate\"), 5000)\n",
              "            handshake.then(function(child) {\n",
              "                child.on('authorize', data => {\n",
              "                    clearTimeout(timeout)\n",
              "                    resolve(data)\n",
              "                });\n",
              "            });\n",
              "            })\n",
              "        });\n",
              "    "
            ]
          },
          "metadata": {}
        },
        {
          "output_type": "stream",
          "name": "stderr",
          "text": [
            "\u001b[34m\u001b[1mwandb\u001b[0m: Logging into wandb.ai. (Learn how to deploy a W&B server locally: https://wandb.me/wandb-server)\n",
            "\u001b[34m\u001b[1mwandb\u001b[0m: You can find your API key in your browser here: https://wandb.ai/authorize\n",
            "wandb: Paste an API key from your profile and hit enter, or press ctrl+c to quit:"
          ]
        },
        {
          "name": "stdout",
          "output_type": "stream",
          "text": [
            " ··········\n"
          ]
        },
        {
          "output_type": "stream",
          "name": "stderr",
          "text": [
            "\u001b[34m\u001b[1mwandb\u001b[0m: Appending key for api.wandb.ai to your netrc file: /root/.netrc\n"
          ]
        },
        {
          "output_type": "execute_result",
          "data": {
            "text/plain": [
              "True"
            ]
          },
          "metadata": {},
          "execution_count": 171
        }
      ]
    },
    {
      "cell_type": "code",
      "source": [
        "def plot_confusion_matrix(y_true, y_pred, figsize=(10, 8), cmap=\"viridis\"):\n",
        "    # Calculate the confusion matrix\n",
        "    conf_matrix = confusion_matrix(y_true, y_pred)\n",
        "\n",
        "    plt.figure(figsize=figsize)\n",
        "    sns.heatmap(conf_matrix, annot=True, fmt=\"d\", cmap=cmap)\n",
        "    plt.title(f'Confusion Matrix (Accuracy: {accuracy_score(y_true, y_pred):.2f})')\n",
        "    plt.xlabel('Predicted')\n",
        "    plt.ylabel('True')\n",
        "    plt.show()"
      ],
      "metadata": {
        "id": "KyDvMPgtawEn"
      },
      "execution_count": 172,
      "outputs": []
    },
    {
      "cell_type": "code",
      "source": [
        "# Random seed\n",
        "np.random.seed(42)\n",
        "\n",
        "# Initialize wandb\n",
        "wandb.init(project=\"mnist-neural-network\")\n",
        "\n",
        "\n",
        "X = X_train\n",
        "Y = y_train\n",
        "num_classes = 10\n",
        "\n",
        "x_test = X_test\n",
        "y_test = y_test\n",
        "\n",
        "# Initialize parameters\n",
        "input_dim = 784\n",
        "hidden1_dim = 196\n",
        "hidden2_dim = 49\n",
        "output_dim = num_classes\n",
        "\n",
        "W1, W2, W3, b1, b2, b3 = initialize_parameters(input_dim, hidden1_dim, hidden2_dim, output_dim)\n",
        "num_params = W1.size + W2.size + W3.size + b1.size + b2.size + b3.size\n",
        "\n",
        "# Learning rate & Epochs\n",
        "lr=5.5e-1\n",
        "epochs = 100\n",
        "\n",
        "## Training loop\n",
        "for epoch in tqdm(range(epochs), desc=\"Training Progress\"):\n",
        "\n",
        "  ## Random Batches\n",
        "  # Shuffle the array\n",
        "  random_indices = np.random.randint(0, len(Y), size=(len(Y)))\n",
        "  x = X[random_indices]\n",
        "  y = Y[random_indices]\n",
        "\n",
        "  ## Training\n",
        "  # Forward pass\n",
        "  training_loss, y_hat_tr, a3, a2, a1 = forward_pass(x, y, num_classes, W1, W2, W3, b1, b2, b3)\n",
        "\n",
        "  # Backwards pass\n",
        "  W1, W2, W3, b1, b2, b3 = backwards_pass(x, y, num_classes, lr, a3, a2, a1, W1, W2, W3, b1, b2, b3)\n",
        "\n",
        "  ## Validation\n",
        "  # Forward pass\n",
        "  val_loss, y_hat_val, _, _, _ = forward_pass(x_test, y_test, num_classes, W1, W2, W3, b1, b2, b3)\n",
        "\n",
        "  ## Logging\n",
        "  train_accuracy = accuracy_score(y, y_hat_tr)\n",
        "  val_accuracy = accuracy_score(y_test, y_hat_val)\n",
        "\n",
        "  ## Logging with wandb\n",
        "  wandb.log({\"train_loss\": training_loss, \"val_loss\": val_loss, \"train_accuracy\": train_accuracy, \"val_accuracy\": val_accuracy})\n",
        "\n",
        "## Logging\n",
        "wandb.config.activation_function = \"relu\"\n",
        "wandb.config.batch_size = len(Y)\n",
        "wandb.config.epochs = epochs\n",
        "wandb.config.input_dims = input_dim\n",
        "wandb.config.hidden_layer_1 = hidden1_dim\n",
        "wandb.config.hidden_layer_2 = hidden2_dim\n",
        "wandb.config.output = output_dim\n",
        "wandb.config.learning_rate = lr\n",
        "wandb.config.loss_function = \"cross_entropy\"\n",
        "wandb.config.parameters = num_params\n",
        "\n",
        "wandb.finish()\n",
        "\n",
        "# Number of parameters\n",
        "print(f\"Number of parameters: {num_params}\")\n",
        "print()\n",
        "\n",
        "# Shapes:\n",
        "print(f\"Input shape: {x.shape}\")\n",
        "print(f\"Parameters W1 shape: {W1.shape}\")\n",
        "print(f\"Parameters b1 shape: {b1.shape}\")\n",
        "print(f\"Parameters W2 shape: {W2.shape}\")\n",
        "print(f\"Parameters b2 shape: {b2.shape}\")\n",
        "print(f\"Parameters W3 shape: {W3.shape}\")\n",
        "print(f\"Parameters b3 shape: {b3.shape}\")\n",
        "print(f\"Predicted Y shape: {y_hat.shape}\")\n",
        "\n",
        "plot_confusion_matrix(y_test, y_hat_val)"
      ],
      "metadata": {
        "colab": {
          "base_uri": "https://localhost:8080/",
          "height": 1000,
          "referenced_widgets": [
            "0f7bb0fe3d8d4b469e241ba257217c80",
            "b5e31f2a2cf04d86a5bd03f80a4d11f2",
            "e29d80412c2d4e97bf8fac072c9a19b2",
            "f83db723519e4b1bbf4c224639f7c32b",
            "a851bad8c949454d9ba75999898829e7",
            "f9a16d0516ff4fe39d09d538d259d76c",
            "5c5351b20db54782a6bb2874fbc807cd",
            "0ff7945134594e5d8fea39e6eb59160d"
          ]
        },
        "id": "-CtCBU2odLRB",
        "outputId": "821f8769-846e-4183-fe29-f10b8cf31fc2"
      },
      "execution_count": 173,
      "outputs": [
        {
          "output_type": "stream",
          "name": "stderr",
          "text": [
            "\u001b[34m\u001b[1mwandb\u001b[0m: Currently logged in as: \u001b[33mgfs3\u001b[0m (\u001b[33mgfs3-university-of-illinois-urbana-champaign\u001b[0m). Use \u001b[1m`wandb login --relogin`\u001b[0m to force relogin\n"
          ]
        },
        {
          "output_type": "display_data",
          "data": {
            "text/plain": [
              "<IPython.core.display.HTML object>"
            ],
            "text/html": [
              "Tracking run with wandb version 0.17.6"
            ]
          },
          "metadata": {}
        },
        {
          "output_type": "display_data",
          "data": {
            "text/plain": [
              "<IPython.core.display.HTML object>"
            ],
            "text/html": [
              "Run data is saved locally in <code>/content/wandb/run-20240809_024548-93bivmtn</code>"
            ]
          },
          "metadata": {}
        },
        {
          "output_type": "display_data",
          "data": {
            "text/plain": [
              "<IPython.core.display.HTML object>"
            ],
            "text/html": [
              "Syncing run <strong><a href='https://wandb.ai/gfs3-university-of-illinois-urbana-champaign/mnist-neural-network/runs/93bivmtn' target=\"_blank\">volcanic-wind-9</a></strong> to <a href='https://wandb.ai/gfs3-university-of-illinois-urbana-champaign/mnist-neural-network' target=\"_blank\">Weights & Biases</a> (<a href='https://wandb.me/run' target=\"_blank\">docs</a>)<br/>"
            ]
          },
          "metadata": {}
        },
        {
          "output_type": "display_data",
          "data": {
            "text/plain": [
              "<IPython.core.display.HTML object>"
            ],
            "text/html": [
              " View project at <a href='https://wandb.ai/gfs3-university-of-illinois-urbana-champaign/mnist-neural-network' target=\"_blank\">https://wandb.ai/gfs3-university-of-illinois-urbana-champaign/mnist-neural-network</a>"
            ]
          },
          "metadata": {}
        },
        {
          "output_type": "display_data",
          "data": {
            "text/plain": [
              "<IPython.core.display.HTML object>"
            ],
            "text/html": [
              " View run at <a href='https://wandb.ai/gfs3-university-of-illinois-urbana-champaign/mnist-neural-network/runs/93bivmtn' target=\"_blank\">https://wandb.ai/gfs3-university-of-illinois-urbana-champaign/mnist-neural-network/runs/93bivmtn</a>"
            ]
          },
          "metadata": {}
        },
        {
          "output_type": "stream",
          "name": "stderr",
          "text": [
            "Training Progress: 100%|██████████| 100/100 [02:00<00:00,  1.20s/it]\n"
          ]
        },
        {
          "output_type": "display_data",
          "data": {
            "text/plain": [
              "VBox(children=(Label(value='0.011 MB of 0.011 MB uploaded\\r'), FloatProgress(value=1.0, max=1.0)))"
            ],
            "application/vnd.jupyter.widget-view+json": {
              "version_major": 2,
              "version_minor": 0,
              "model_id": "0f7bb0fe3d8d4b469e241ba257217c80"
            }
          },
          "metadata": {}
        },
        {
          "output_type": "display_data",
          "data": {
            "text/plain": [
              "<IPython.core.display.HTML object>"
            ],
            "text/html": [
              "<style>\n",
              "    table.wandb td:nth-child(1) { padding: 0 10px; text-align: left ; width: auto;} td:nth-child(2) {text-align: left ; width: 100%}\n",
              "    .wandb-row { display: flex; flex-direction: row; flex-wrap: wrap; justify-content: flex-start; width: 100% }\n",
              "    .wandb-col { display: flex; flex-direction: column; flex-basis: 100%; flex: 1; padding: 10px; }\n",
              "    </style>\n",
              "<div class=\"wandb-row\"><div class=\"wandb-col\"><h3>Run history:</h3><br/><table class=\"wandb\"><tr><td>train_accuracy</td><td>▁▂▄▁▂▄▅▅▅▄▆▆▆▇▇▇███▇████▇███████████████</td></tr><tr><td>train_loss</td><td>▇▆▅▅█▆▄▅▅▄▃▃▃▃▂▂▃▂▂▂▁▁▁▂▂▁▁▁▁▂▁▁▁▁▁▁▁▁▁▁</td></tr><tr><td>val_accuracy</td><td>▁▂▄▂▂▅▄▄▆▆▆▅▆▇▇▆▆▇▇▇█▇▇▇████▇███████████</td></tr><tr><td>val_loss</td><td>█▇▆▅▅▃▃▃▂▂▂▃▂▂▂▂▂▁▁▁▁▁▁▁▁▂▁▁▁▁▁▁▁▁▁▁▁▁▁▁</td></tr></table><br/></div><div class=\"wandb-col\"><h3>Run summary:</h3><br/><table class=\"wandb\"><tr><td>train_accuracy</td><td>0.9425</td></tr><tr><td>train_loss</td><td>0.01977</td></tr><tr><td>val_accuracy</td><td>0.9378</td></tr><tr><td>val_loss</td><td>0.02117</td></tr></table><br/></div></div>"
            ]
          },
          "metadata": {}
        },
        {
          "output_type": "display_data",
          "data": {
            "text/plain": [
              "<IPython.core.display.HTML object>"
            ],
            "text/html": [
              " View run <strong style=\"color:#cdcd00\">volcanic-wind-9</strong> at: <a href='https://wandb.ai/gfs3-university-of-illinois-urbana-champaign/mnist-neural-network/runs/93bivmtn' target=\"_blank\">https://wandb.ai/gfs3-university-of-illinois-urbana-champaign/mnist-neural-network/runs/93bivmtn</a><br/> View project at: <a href='https://wandb.ai/gfs3-university-of-illinois-urbana-champaign/mnist-neural-network' target=\"_blank\">https://wandb.ai/gfs3-university-of-illinois-urbana-champaign/mnist-neural-network</a><br/>Synced 5 W&B file(s), 0 media file(s), 0 artifact file(s) and 0 other file(s)"
            ]
          },
          "metadata": {}
        },
        {
          "output_type": "display_data",
          "data": {
            "text/plain": [
              "<IPython.core.display.HTML object>"
            ],
            "text/html": [
              "Find logs at: <code>./wandb/run-20240809_024548-93bivmtn/logs</code>"
            ]
          },
          "metadata": {}
        },
        {
          "output_type": "stream",
          "name": "stdout",
          "text": [
            "Number of parameters: 164013\n",
            "\n",
            "Input shape: (20000, 784)\n",
            "Parameters W1 shape: (784, 196)\n",
            "Parameters b1 shape: (1, 196)\n",
            "Parameters W2 shape: (196, 49)\n",
            "Parameters b2 shape: (1, 49)\n",
            "Parameters W3 shape: (49, 10)\n",
            "Parameters b3 shape: (1, 10)\n",
            "Predicted Y shape: (10, 1)\n"
          ]
        },
        {
          "output_type": "display_data",
          "data": {
            "text/plain": [
              "<Figure size 1000x800 with 2 Axes>"
            ],
            "image/png": "[encoded data removed]"
          },
          "metadata": {}
        }
      ]
    },
    {
      "cell_type": "code",
      "source": [
        "num_digits = 15\n",
        "\n",
        "# Create a figure with subplots\n",
        "fig, axes = plt.subplots(1, num_digits, figsize=(15, 3))\n",
        "\n",
        "for i in range(num_digits):\n",
        "    # Randomly select an index\n",
        "    random_index = np.random.randint(0, len(X_test))\n",
        "    x_obs = X_test[random_index]  # Select the image at the random index\n",
        "    y_obs = y_test[random_index]  # Select the corresponding label\n",
        "\n",
        "    # Forward pass to get the prediction\n",
        "    _, prediction, _, _, _ = forward_pass(x_obs, y_obs, num_classes, W1, W2, W3, b1, b2, b3)\n",
        "\n",
        "    # Visualize the digit\n",
        "    axes[i].imshow(x_obs.reshape(28, 28), cmap='viridis')\n",
        "    axes[i].set_title(f'Label: {y_obs}\\nPred: {prediction}')\n",
        "    axes[i].axis('off')  # Turn off the axes\n",
        "\n",
        "# Adjust layout and show the plot\n",
        "plt.tight_layout()\n",
        "plt.show()"
      ],
      "metadata": {
        "colab": {
          "base_uri": "https://localhost:8080/",
          "height": 164
        },
        "id": "66XQ7ZRCDXFf",
        "outputId": "b1125562-7111-429a-9730-4ea2a3ec1a37"
      },
      "execution_count": 218,
      "outputs": [
        {
          "output_type": "display_data",
          "data": {
            "text/plain": [
              "<Figure size 1500x300 with 15 Axes>"
            ],
            "image/png": "[encoded data removed]"
          },
          "metadata": {}
        }
      ]
    },
    {
      "cell_type": "markdown",
      "source": [
        "### Weights and Biases Report"
      ],
      "metadata": {
        "id": "IjfiB9dVKBME"
      }
    },
    {
      "cell_type": "code",
      "source": [
        "from IPython.display import IFrame\n",
        "\n",
        "# Embed the webpage in an iframe\n",
        "IFrame(src=\"https://wandb.ai/gfs3-university-of-illinois-urbana-champaign/mnist-neural-network/reports/MNIST-prediction-with-a-NumPy-Neural-Network---Vmlldzo4OTc1MDA4\", width=\"100%\", height=\"1024px\")\n"
      ],
      "metadata": {
        "colab": {
          "base_uri": "https://localhost:8080/",
          "height": 1000
        },
        "id": "CtKDNpY1D74X",
        "outputId": "4b8cd885-1e06-49bd-a369-0fc5e0634f3d"
      },
      "execution_count": 219,
      "outputs": [
        {
          "output_type": "execute_result",
          "data": {
            "text/plain": [
              "<IPython.lib.display.IFrame at 0x7fe40c7b11e0>"
            ],
            "text/html": [
              "\n",
              "        <iframe\n",
              "            width=\"100%\"\n",
              "            height=\"1024px\"\n",
              "            src=\"https://wandb.ai/gfs3-university-of-illinois-urbana-champaign/mnist-neural-network/reports/MNIST-prediction-with-a-NumPy-Neural-Network---Vmlldzo4OTc1MDA4\"\n",
              "            frameborder=\"0\"\n",
              "            allowfullscreen\n",
              "            \n",
              "        ></iframe>\n",
              "        "
            ]
          },
          "metadata": {},
          "execution_count": 219
        }
      ]
    }
  ]
}